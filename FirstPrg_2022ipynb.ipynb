{
  "nbformat": 4,
  "nbformat_minor": 0,
  "metadata": {
    "colab": {
      "name": "FirstPrg_2022ipynb",
      "provenance": [],
      "collapsed_sections": [],
      "authorship_tag": "ABX9TyM/bjTEN59l0JOYYWOtqH+Z",
      "include_colab_link": true
    },
    "kernelspec": {
      "name": "python3",
      "display_name": "Python 3"
    },
    "language_info": {
      "name": "python"
    }
  },
  "cells": [
    {
      "cell_type": "markdown",
      "metadata": {
        "id": "view-in-github",
        "colab_type": "text"
      },
      "source": [
        "<a href=\"https://colab.research.google.com/github/swarankum/Assignment-1-Submission/blob/main/FirstPrg_2022ipynb.ipynb\" target=\"_parent\"><img src=\"https://colab.research.google.com/assets/colab-badge.svg\" alt=\"Open In Colab\"/></a>"
      ]
    },
    {
      "cell_type": "markdown",
      "source": [
        "Take multile integers in input and print sum of them"
      ],
      "metadata": {
        "id": "jmD-Cmr7WPJb"
      }
    },
    {
      "cell_type": "code",
      "execution_count": 2,
      "metadata": {
        "colab": {
          "base_uri": "https://localhost:8080/"
        },
        "id": "ql21SCxsUhn-",
        "outputId": "add9d728-4ea4-4382-e538-1f7e8af0d9fa"
      },
      "outputs": [
        {
          "output_type": "stream",
          "name": "stdout",
          "text": [
            "enter a number:23 45 56 \n",
            "124\n"
          ]
        }
      ],
      "source": [
        "x,y,z=map(int,input('enter a number:').split())\n",
        "print(x+y+z)"
      ]
    }
  ]
}